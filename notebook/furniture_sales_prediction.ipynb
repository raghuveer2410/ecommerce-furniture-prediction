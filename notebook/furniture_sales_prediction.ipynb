
{
 "cells": [
  {
   "cell_type": "code",
   "execution_count": null,
   "metadata": {},
   "outputs": [],
   "source": [
    "# 1. Import Libraries\n",
    "import pandas as pd\n",
    "import numpy as np\n",
    "import seaborn as sns\n",
    "import matplotlib.pyplot as plt\n",
    "from sklearn.model_selection import train_test_split\n",
    "from sklearn.linear_model import LinearRegression\n",
    "from sklearn.ensemble import RandomForestRegressor\n",
    "from sklearn.metrics import mean_squared_error, r2_score\n",
    "from sklearn.feature_extraction.text import TfidfVectorizer\n",
    "from sklearn.preprocessing import LabelEncoder"
   ]
  },
  {
   "cell_type": "code",
   "execution_count": null,
   "metadata": {},
   "outputs": [],
   "source": [
    "# 2. Load Dataset\n",
    "df = pd.read_csv(\"../data/ecommerce_furniture_dataset.csv\")\n",
    "print(\"Initial Shape:\", df.shape)\n",
    "df.head()"
   ]
  },
  {
   "cell_type": "code",
   "execution_count": null,
   "metadata": {},
   "outputs": [],
   "source": [
    "# 3. Data Preprocessing\n",
    "print(\"Missing values:\\\n\", df.isnull().sum())\n",
    "df.drop(columns=['originalPrice'], inplace=True)\n",
    "df.dropna(inplace=True)\n",
    "df['price'] = df['price'].replace('[\\$,,]', '', regex=True).astype(float)\n",
    "df['tagText'] = df['tagText'].apply(lambda x: x if x in ['Free shipping', '+Shipping: $5.09'] else 'others')\n",
    "le = LabelEncoder()\n",
    "df['tagText'] = le.fit_transform(df['tagText'])"
   ]
  },
  {
   "cell_type": "code",
   "execution_count": null,
   "metadata": {},
   "outputs": [],
   "source": [
    "# 4. Exploratory Data Analysis\n",
    "sns.histplot(df['price'], kde=True)\n",
    "plt.title('Price Distribution')\n",
    "plt.show()\n",
    "sns.histplot(df['sold'], kde=True)\n",
    "plt.title('Sold Units Distribution')\n",
    "plt.show()\n",
    "sns.scatterplot(x='price', y='sold', data=df)\n",
    "plt.title('Price vs Sold Units')\n",
    "plt.show()"
   ]
  },
  {
   "cell_type": "code",
   "execution_count": null,
   "metadata": {},
   "outputs": [],
   "source": [
    "# 5. Feature Engineering\n",
    "tfidf = TfidfVectorizer(max_features=50)\n",
    "title_features = tfidf.fit_transform(df['productTitle'])\n",
    "title_df = pd.DataFrame(title_features.toarray(), columns=tfidf.get_feature_names_out())\n",
    "df = pd.concat([df.reset_index(drop=True), title_df], axis=1)\n",
    "df.drop(columns=['productTitle'], inplace=True)"
   ]
  },
  {
   "cell_type": "code",
   "execution_count": null,
   "metadata": {},
   "outputs": [],
   "source": [
    "# 6. Train/Test Split\n",
    "X = df.drop(columns=['sold'])\n",
    "y = df['sold']\n",
    "X_train, X_test, y_train, y_test = train_test_split(X, y, test_size=0.2, random_state=42)"
   ]
  },
  {
   "cell_type": "code",
   "execution_count": null,
   "metadata": {},
   "outputs": [],
   "source": [
    "# 7. Model Training\n",
    "lr_model = LinearRegression()\n",
    "rf_model = RandomForestRegressor(n_estimators=100, random_state=42)\n",
    "lr_model.fit(X_train, y_train)\n",
    "rf_model.fit(X_train, y_train)"
   ]
  },
  {
   "cell_type": "code",
   "execution_count": null,
   "metadata": {},
   "outputs": [],
   "source": [
    "# 8. Evaluation\n",
    "y_pred_lr = lr_model.predict(X_test)\n",
    "y_pred_rf = rf_model.predict(X_test)\n",
    "print(\"Linear Regression:\")\n",
    "print(\"MSE:\", mean_squared_error(y_test, y_pred_lr))\n",
    "print(\"R2:\", r2_score(y_test, y_pred_lr))\n",
    "print(\"\\nRandom Forest:\")\n",
    "print(\"MSE:\", mean_squared_error(y_test, y_pred_rf))\n",
    "print(\"R2:\", r2_score(y_test, y_pred_rf))"
   ]
  }
 ],
 "metadata": {
  "kernelspec": {
   "display_name": "Python 3",
   "language": "python",
   "name": "python3"
  },
  "language_info": {
   "name": "python",
   "version": ""
  }
 },
 "nbformat": 4,
 "nbformat_minor": 5
}
